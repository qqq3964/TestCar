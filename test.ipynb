{
 "cells": [
  {
   "cell_type": "code",
   "execution_count": null,
   "metadata": {},
   "outputs": [
    {
     "name": "stdout",
     "output_type": "stream",
     "text": [
      "======\n",
      "Loading NuScenes tables for version v1.0-trainval...\n",
      "7 sensor,\n",
      "7084 calibrated_sensor,\n",
      "7084 ego_pose,\n",
      "28 scene,\n",
      "1012 sample,\n",
      "7084 sample_data,\n",
      "16051 sample_annotation,\n",
      "Done loading in 0.202 seconds.\n",
      "======\n",
      "Reverse indexing ...\n",
      "Done reverse indexing in 0.0 seconds.\n",
      "======\n"
     ]
    }
   ],
   "source": [
    "from tcar import TestCar\n",
    "\n",
    "\n",
    "from nuscenes.utils.data_classes import Box\n",
    "\n",
    "dataroot = '/home/taewan/TCAR_DATA'\n",
    "nusc = TestCar(version='v1.0-trainval', dataroot=dataroot, verbose=True)"
   ]
  },
  {
   "cell_type": "code",
   "execution_count": 3,
   "metadata": {},
   "outputs": [
    {
     "data": {
      "text/plain": [
       "{'next': 'bd4a2f8411ee44a6820c0191cc4393681752823332323791883',\n",
       " 'prev': '',\n",
       " 'scene_token': '23855be4af5741b7bd52940e095e304d1752823332323789044',\n",
       " 'timestamp': 1751954369227072239,\n",
       " 'token': '909b9da0e3654420b05befca60de06861752823332323790902',\n",
       " 'data': {'CAM_BACK': '8517c4700fa840b4ab5805a9e1717b9a1752823332323798444',\n",
       "  'CAM_BACK_LEFT': 'ffea46a0218a4aac85c51eb557d8ad731752823332323806732',\n",
       "  'CAM_BACK_RIGHT': '513ed3fba81247c3902d684a447a5b091752823332323811268',\n",
       "  'CAM_FRONT': '0937cdaf0394434fbc562a9f74438ecd1752823332323815355',\n",
       "  'CAM_FRONT_LEFT': 'c20c9499b1294da788740aa6976003691752823332323819587',\n",
       "  'CAM_FRONT_RIGHT': 'a4713498688b4627b03f51d133e956bc1752823332323823333',\n",
       "  'LIDAR_TOP': '75152ed8a34248ff8164c001dada73561752823332323827881'},\n",
       " 'anns': ['9aa8dc2f63994f9fad9b47486786d20e1752823332323831819',\n",
       "  '2a1a25800e8f49d19c6f546e9f8b43961752823332323833151',\n",
       "  '81976607da33456f8e6e652e42658c5f1752823332323834149',\n",
       "  '6e631f00efc4403e90cee25291afc3971752823332323835037',\n",
       "  'a4e738a1e28045bdbdb4ae705a63dcb61752823332323835818',\n",
       "  '407821b5fa0143e6b98511be6aefb7dc1752823332323836863',\n",
       "  '6092d9b2109a45c0864854a16aff32751752823332323837637',\n",
       "  'aa9280c044d340469f9c1ae1e186a2a81752823332323838494',\n",
       "  '47c8a65eeead472abd02c0e41f1a38ba1752823332323839359',\n",
       "  '1aad64e414af4d0dab2f4605174452f11752823332323840205',\n",
       "  'e62a300427774bdd8e9e2d91909855be1752823332323840964',\n",
       "  '110e4cf31bc54cc582652550f9894ee01752823332323841900',\n",
       "  '5f62cb6fd2c041b3ad76747513e5d90a1752823332323842663',\n",
       "  'bd601143d5744d4687d8e095cdeadb401752823332323843632',\n",
       "  '7b2e1198fea740c9bf51cdd78223e31e1752823332323844567',\n",
       "  'ba9bcbd48c454e7cb232a477284ff37e1752823332323845455',\n",
       "  '1b11cfb2eebd470d9d276797a87ff60e1752823332323846238',\n",
       "  '60bd031b73204ac5a71983fb72934cce1752823332323847171',\n",
       "  'b98b530da883421d946cbdcacb0578531752823332323847980',\n",
       "  '478b74c65cd54abea0fcb1eb28f9b5a21752823332323848812',\n",
       "  'c772817d252b4cef9d6a55a8fa71031d1752823332323849712']}"
      ]
     },
     "execution_count": 3,
     "metadata": {},
     "output_type": "execute_result"
    }
   ],
   "source": [
    "cur_scene = nusc.scene[10]\n",
    "cur_sample = nusc.get('sample', cur_scene['first_sample_token'])\n",
    "cur_sample"
   ]
  },
  {
   "cell_type": "code",
   "execution_count": 6,
   "metadata": {},
   "outputs": [
    {
     "data": {
      "text/plain": [
       "(4, 230400)"
      ]
     },
     "execution_count": 6,
     "metadata": {},
     "output_type": "execute_result"
    }
   ],
   "source": [
    "from tcar.utils import LidarPointCloud\n",
    "import os.path as osp\n",
    "\n",
    "sensor = 'LIDAR_TOP'\n",
    "lidar_data = nusc.get('sample_data', cur_sample['data'][sensor])\n",
    "pcl_path = osp.join(dataroot, lidar_data['filename'])\n",
    "lidar = LidarPointCloud.from_file(pcl_path)\n",
    "\n",
    "lidar.points.shape"
   ]
  },
  {
   "cell_type": "code",
   "execution_count": 8,
   "metadata": {},
   "outputs": [
    {
     "name": "stdout",
     "output_type": "stream",
     "text": [
      "[Open3D INFO] Window window_0 created.\n",
      "[Open3D INFO] EGL headless mode enabled.\n",
      "FEngine (64 bits) created at 0xdd47250 (threading is enabled)\n",
      "EGL(1.5)\n",
      "OpenGL(4.1)\n"
     ]
    },
    {
     "ename": "KeyboardInterrupt",
     "evalue": "",
     "output_type": "error",
     "traceback": [
      "\u001b[0;31m---------------------------------------------------------------------------\u001b[0m",
      "\u001b[0;31mKeyboardInterrupt\u001b[0m                         Traceback (most recent call last)",
      "Cell \u001b[0;32mIn[8], line 8\u001b[0m\n\u001b[1;32m      5\u001b[0m pcd \u001b[38;5;241m=\u001b[39m o3d\u001b[38;5;241m.\u001b[39mgeometry\u001b[38;5;241m.\u001b[39mPointCloud()\n\u001b[1;32m      6\u001b[0m pcd\u001b[38;5;241m.\u001b[39mpoints \u001b[38;5;241m=\u001b[39m o3d\u001b[38;5;241m.\u001b[39mutility\u001b[38;5;241m.\u001b[39mVector3dVector(lidar_bin[:, :\u001b[38;5;241m3\u001b[39m])\n\u001b[0;32m----> 8\u001b[0m \u001b[43mo3d\u001b[49m\u001b[38;5;241;43m.\u001b[39;49m\u001b[43mvisualization\u001b[49m\u001b[38;5;241;43m.\u001b[39;49m\u001b[43mdraw\u001b[49m\u001b[43m(\u001b[49m\u001b[43m[\u001b[49m\u001b[43mpcd\u001b[49m\u001b[43m]\u001b[49m\u001b[43m)\u001b[49m\n",
      "File \u001b[0;32m~/.local/lib/python3.8/site-packages/open3d/visualization/draw.py:230\u001b[0m, in \u001b[0;36mdraw\u001b[0;34m(geometry, title, width, height, actions, lookat, eye, up, field_of_view, intrinsic_matrix, extrinsic_matrix, bg_color, bg_image, ibl, ibl_intensity, show_skybox, show_ui, raw_mode, point_size, line_width, animation_time_step, animation_duration, rpc_interface, on_init, on_animation_frame, on_animation_tick, non_blocking_and_return_uid)\u001b[0m\n\u001b[1;32m    228\u001b[0m     \u001b[38;5;28;01mreturn\u001b[39;00m w\u001b[38;5;241m.\u001b[39muid\n\u001b[1;32m    229\u001b[0m \u001b[38;5;28;01melse\u001b[39;00m:\n\u001b[0;32m--> 230\u001b[0m     \u001b[43mgui\u001b[49m\u001b[38;5;241;43m.\u001b[39;49m\u001b[43mApplication\u001b[49m\u001b[38;5;241;43m.\u001b[39;49m\u001b[43minstance\u001b[49m\u001b[38;5;241;43m.\u001b[39;49m\u001b[43mrun\u001b[49m\u001b[43m(\u001b[49m\u001b[43m)\u001b[49m\n",
      "\u001b[0;31mKeyboardInterrupt\u001b[0m: "
     ]
    }
   ],
   "source": [
    "import open3d as o3d\n",
    "import numpy as np\n",
    "\n",
    "lidar_bin = lidar.points.T\n",
    "pcd = o3d.geometry.PointCloud()\n",
    "pcd.points = o3d.utility.Vector3dVector(lidar_bin[:, :3])\n",
    "\n",
    "o3d.visualization.draw([pcd])"
   ]
  }
 ],
 "metadata": {
  "kernelspec": {
   "display_name": "test",
   "language": "python",
   "name": "python3"
  },
  "language_info": {
   "codemirror_mode": {
    "name": "ipython",
    "version": 3
   },
   "file_extension": ".py",
   "mimetype": "text/x-python",
   "name": "python",
   "nbconvert_exporter": "python",
   "pygments_lexer": "ipython3",
   "version": "3.8.19"
  }
 },
 "nbformat": 4,
 "nbformat_minor": 2
}
